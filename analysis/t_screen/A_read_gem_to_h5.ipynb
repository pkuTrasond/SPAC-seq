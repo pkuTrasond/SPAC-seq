{
 "cells": [
  {
   "cell_type": "code",
   "execution_count": 2,
   "metadata": {},
   "outputs": [],
   "source": [
    "import anndata as ad\n",
    "import scanpy as sc\n",
    "import squidpy as sq\n",
    "import pandas as pd\n",
    "import numpy as np\n",
    "import matplotlib.pyplot as plt\n",
    "from tqdm import tqdm\n",
    "\n",
    "from scipy.stats import pearsonr\n",
    "from scipy.stats import spearmanr\n",
    "from scipy.stats import stats\n",
    "\n",
    "import seaborn as sns\n",
    "import matplotlib.colors as mcolors\n",
    "\n",
    "from bin import load_bgi as ld"
   ]
  },
  {
   "cell_type": "code",
   "execution_count": 3,
   "metadata": {},
   "outputs": [],
   "source": [
    "bdata2_bin20 = ld.load_bin(\"./gRNA/B922/cut.combined.D03658A1.merged.sgRNA.gem\", bin_size=20, library_id=\"rna\")"
   ]
  },
  {
   "cell_type": "code",
   "execution_count": 4,
   "metadata": {},
   "outputs": [],
   "source": [
    "#bdata2_bin100 = ld.load_bin(\"./gRNA/B922/cut.combined.D03658A1.merged.sgRNA.gem\", bin_size=100, library_id=\"rna\")"
   ]
  },
  {
   "cell_type": "code",
   "execution_count": 5,
   "metadata": {},
   "outputs": [],
   "source": [
    "guide_genes = bdata2_bin20.var_names[bdata2_bin20.var_names.str.startswith(\"sg\")]\n",
    "fdata2_bin20 = bdata2_bin20[:, ~np.isin(bdata2_bin20.var_names, guide_genes)].copy()\n",
    "cdata2_bin20 = bdata2_bin20[:, guide_genes].copy()"
   ]
  },
  {
   "cell_type": "code",
   "execution_count": 6,
   "metadata": {},
   "outputs": [
    {
     "data": {
      "text/plain": [
       "AnnData object with n_obs × n_vars = 563432 × 28095\n",
       "    obsm: 'spatial'"
      ]
     },
     "execution_count": 6,
     "metadata": {},
     "output_type": "execute_result"
    }
   ],
   "source": [
    "fdata2_bin20"
   ]
  },
  {
   "cell_type": "code",
   "execution_count": 7,
   "metadata": {},
   "outputs": [
    {
     "data": {
      "text/plain": [
       "AnnData object with n_obs × n_vars = 563432 × 67\n",
       "    obsm: 'spatial'"
      ]
     },
     "execution_count": 7,
     "metadata": {},
     "output_type": "execute_result"
    }
   ],
   "source": [
    "cdata2_bin20"
   ]
  },
  {
   "cell_type": "code",
   "execution_count": 8,
   "metadata": {},
   "outputs": [],
   "source": [
    "fdata2_bin20.write_h5ad(\"./RNA/B922-1.expr.bin_20.h5\")\n",
    "cdata2_bin20.write_h5ad(\"./RNA/B922-1.guide.bin_20.h5\")"
   ]
  },
  {
   "cell_type": "code",
   "execution_count": 9,
   "metadata": {},
   "outputs": [],
   "source": [
    "# guide_genes = bdata2_bin100.var_names[bdata2_bin100.var_names.str.startswith(\"sg\")]\n",
    "# fdata2_bin100 = bdata2_bin100[:, ~np.isin(bdata2_bin100.var_names, guide_genes)].copy()\n",
    "# cdata2_bin100 = bdata2_bin100[:, guide_genes].copy()"
   ]
  },
  {
   "cell_type": "code",
   "execution_count": 10,
   "metadata": {},
   "outputs": [],
   "source": [
    "# fdata2_bin100"
   ]
  },
  {
   "cell_type": "code",
   "execution_count": 11,
   "metadata": {},
   "outputs": [],
   "source": [
    "# cdata2_bin100"
   ]
  },
  {
   "cell_type": "code",
   "execution_count": 12,
   "metadata": {},
   "outputs": [],
   "source": [
    "# fdata2_bin100.write_h5ad(\"./RNA/B922-2.expr.bin_100.h5\")\n",
    "# cdata2_bin100.write_h5ad(\"./RNA/B922-2.guide.bin_100.h5\")"
   ]
  }
 ],
 "metadata": {
  "kernelspec": {
   "display_name": "scanpy",
   "language": "python",
   "name": "python3"
  },
  "language_info": {
   "codemirror_mode": {
    "name": "ipython",
    "version": 3
   },
   "file_extension": ".py",
   "mimetype": "text/x-python",
   "name": "python",
   "nbconvert_exporter": "python",
   "pygments_lexer": "ipython3",
   "version": "3.12.3"
  }
 },
 "nbformat": 4,
 "nbformat_minor": 2
}
