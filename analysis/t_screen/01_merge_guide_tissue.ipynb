{
 "cells": [
  {
   "cell_type": "code",
   "execution_count": 25,
   "metadata": {},
   "outputs": [],
   "source": [
    "import pandas as pd\n",
    "import re\n",
    "import numpy as np"
   ]
  },
  {
   "cell_type": "code",
   "execution_count": 26,
   "metadata": {},
   "outputs": [],
   "source": [
    "guide_file = './gRNA/B922/C03628E2.gem.offset'\n",
    "tissue_file = \"./RNA/C03628E2_tissue/segmentation/C03628E2.lasso.bin1.tissue.gem\"\n",
    "output_file = \"./gRNA/B922/C03628E2.merged.gem\""
   ]
  },
  {
   "cell_type": "code",
   "execution_count": 27,
   "metadata": {},
   "outputs": [],
   "source": [
    "guide_df = pd.read_csv(guide_file, sep=\"\\t\", comment=\"#\", header=0, index_col=0)"
   ]
  },
  {
   "cell_type": "code",
   "execution_count": 28,
   "metadata": {},
   "outputs": [],
   "source": [
    "tissue_df = pd.read_csv(tissue_file, sep=\"\\t\", comment=\"#\", header=0)"
   ]
  },
  {
   "cell_type": "code",
   "execution_count": 29,
   "metadata": {},
   "outputs": [],
   "source": [
    "merge_df = pd.concat([guide_df, tissue_df])"
   ]
  },
  {
   "cell_type": "code",
   "execution_count": 30,
   "metadata": {},
   "outputs": [
    {
     "data": {
      "text/html": [
       "<div>\n",
       "<style scoped>\n",
       "    .dataframe tbody tr th:only-of-type {\n",
       "        vertical-align: middle;\n",
       "    }\n",
       "\n",
       "    .dataframe tbody tr th {\n",
       "        vertical-align: top;\n",
       "    }\n",
       "\n",
       "    .dataframe thead th {\n",
       "        text-align: right;\n",
       "    }\n",
       "</style>\n",
       "<table border=\"1\" class=\"dataframe\">\n",
       "  <thead>\n",
       "    <tr style=\"text-align: right;\">\n",
       "      <th></th>\n",
       "      <th>geneID</th>\n",
       "      <th>x</th>\n",
       "      <th>y</th>\n",
       "      <th>MIDCount</th>\n",
       "      <th>ExonCount</th>\n",
       "    </tr>\n",
       "  </thead>\n",
       "  <tbody>\n",
       "    <tr>\n",
       "      <th>0</th>\n",
       "      <td>sgAdrb2_1_gene</td>\n",
       "      <td>217</td>\n",
       "      <td>4059</td>\n",
       "      <td>1</td>\n",
       "      <td>1</td>\n",
       "    </tr>\n",
       "    <tr>\n",
       "      <th>1</th>\n",
       "      <td>sgAdrb2_1_gene</td>\n",
       "      <td>2877</td>\n",
       "      <td>12082</td>\n",
       "      <td>1</td>\n",
       "      <td>1</td>\n",
       "    </tr>\n",
       "    <tr>\n",
       "      <th>2</th>\n",
       "      <td>sgAdrb2_1_gene</td>\n",
       "      <td>2878</td>\n",
       "      <td>9715</td>\n",
       "      <td>1</td>\n",
       "      <td>1</td>\n",
       "    </tr>\n",
       "    <tr>\n",
       "      <th>3</th>\n",
       "      <td>sgAdrb2_1_gene</td>\n",
       "      <td>2897</td>\n",
       "      <td>9283</td>\n",
       "      <td>2</td>\n",
       "      <td>2</td>\n",
       "    </tr>\n",
       "    <tr>\n",
       "      <th>4</th>\n",
       "      <td>sgAdrb2_1_gene</td>\n",
       "      <td>2898</td>\n",
       "      <td>9528</td>\n",
       "      <td>1</td>\n",
       "      <td>1</td>\n",
       "    </tr>\n",
       "    <tr>\n",
       "      <th>...</th>\n",
       "      <td>...</td>\n",
       "      <td>...</td>\n",
       "      <td>...</td>\n",
       "      <td>...</td>\n",
       "      <td>...</td>\n",
       "    </tr>\n",
       "    <tr>\n",
       "      <th>42018906</th>\n",
       "      <td>Gm42418</td>\n",
       "      <td>21656</td>\n",
       "      <td>12388</td>\n",
       "      <td>2</td>\n",
       "      <td>2</td>\n",
       "    </tr>\n",
       "    <tr>\n",
       "      <th>42018907</th>\n",
       "      <td>Gm42418</td>\n",
       "      <td>21529</td>\n",
       "      <td>11375</td>\n",
       "      <td>1</td>\n",
       "      <td>1</td>\n",
       "    </tr>\n",
       "    <tr>\n",
       "      <th>42018908</th>\n",
       "      <td>Gm42418</td>\n",
       "      <td>19036</td>\n",
       "      <td>13184</td>\n",
       "      <td>1</td>\n",
       "      <td>1</td>\n",
       "    </tr>\n",
       "    <tr>\n",
       "      <th>42018909</th>\n",
       "      <td>Gm42418</td>\n",
       "      <td>20331</td>\n",
       "      <td>2370</td>\n",
       "      <td>1</td>\n",
       "      <td>1</td>\n",
       "    </tr>\n",
       "    <tr>\n",
       "      <th>42018910</th>\n",
       "      <td>Gm42418</td>\n",
       "      <td>16494</td>\n",
       "      <td>8627</td>\n",
       "      <td>1</td>\n",
       "      <td>1</td>\n",
       "    </tr>\n",
       "  </tbody>\n",
       "</table>\n",
       "<p>42134049 rows × 5 columns</p>\n",
       "</div>"
      ],
      "text/plain": [
       "                  geneID      x      y  MIDCount  ExonCount\n",
       "0         sgAdrb2_1_gene    217   4059         1          1\n",
       "1         sgAdrb2_1_gene   2877  12082         1          1\n",
       "2         sgAdrb2_1_gene   2878   9715         1          1\n",
       "3         sgAdrb2_1_gene   2897   9283         2          2\n",
       "4         sgAdrb2_1_gene   2898   9528         1          1\n",
       "...                  ...    ...    ...       ...        ...\n",
       "42018906         Gm42418  21656  12388         2          2\n",
       "42018907         Gm42418  21529  11375         1          1\n",
       "42018908         Gm42418  19036  13184         1          1\n",
       "42018909         Gm42418  20331   2370         1          1\n",
       "42018910         Gm42418  16494   8627         1          1\n",
       "\n",
       "[42134049 rows x 5 columns]"
      ]
     },
     "execution_count": 30,
     "metadata": {},
     "output_type": "execute_result"
    }
   ],
   "source": [
    "merge_df"
   ]
  },
  {
   "cell_type": "code",
   "execution_count": 31,
   "metadata": {},
   "outputs": [],
   "source": [
    "merge_df.to_csv(output_file, index=None, sep=\"\\t\")"
   ]
  }
 ],
 "metadata": {
  "kernelspec": {
   "display_name": "scanpy",
   "language": "python",
   "name": "python3"
  },
  "language_info": {
   "codemirror_mode": {
    "name": "ipython",
    "version": 3
   },
   "file_extension": ".py",
   "mimetype": "text/x-python",
   "name": "python",
   "nbconvert_exporter": "python",
   "pygments_lexer": "ipython3",
   "version": "3.12.3"
  }
 },
 "nbformat": 4,
 "nbformat_minor": 2
}
