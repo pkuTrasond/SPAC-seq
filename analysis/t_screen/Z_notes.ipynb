{
 "cells": [
  {
   "cell_type": "markdown",
   "metadata": {},
   "source": [
    "# Notes"
   ]
  },
  {
   "cell_type": "markdown",
   "metadata": {},
   "source": [
    "[TOC]"
   ]
  },
  {
   "cell_type": "markdown",
   "metadata": {},
   "source": [
    "### Clusters"
   ]
  },
  {
   "cell_type": "markdown",
   "metadata": {},
   "source": [
    "0: Hyaluronan Uptake and degradation\n",
    "Hexb, Cd44, Nf1, Ncor1, Tbl1x, Hmgb1, Kpna1\n",
    "\n",
    "1: Macrophage, initial inflammation\n",
    "C1qa, C1qb, C1qc, Stat3, P4hb, Il12rb1, Pld4, Cxcl10, Csf1, Socs1\n",
    "\n",
    "2: Vessel generation, hpoxia\n",
    "Col1a1, Col3a1, col1a2, Apoe, Lama5, B2m, Hspa5, S100a10\n",
    "\n",
    "3: Macrophage, high inflammation\n",
    "Stat1, Il2rg, Pdcd1, Cd3d, Ptpn6, Il2rb, Cxcl16\n",
    "\n",
    "4: Fibroblasts reformation\n",
    "Anxa2, Plaur, Psat1, Lama5, Sdc4, Col18a1, Sdc4, Hspa9, Fbln1,\n",
    "\n",
    "5: Myofibril, macrophage antigen uptake\n",
    "Actn3, Actn2, Tpm1, Atp1a2, Col3a1, Lox, Loxl1\n",
    "\n",
    "6: Hyaluronan Uptake and degradation, apoptosis\n",
    "Camk4, Kpna1, Rock1, Vim\n",
    "\n",
    "7: Tumor, hypoxia, ECM breakdown, hemidesmosome assembly\n",
    "Btc, Areg, Ereg, Serpinb2, Slc16a1, Slc16a3, Serinc1, Pxdn, Mmp12, Adam8\n",
    "\n",
    "8: Hyaluronan Uptake and degradation, ECM formation\n",
    "Lyve1, Pltp, Tnxb, Col14a1, Cd163\n",
    "\n",
    "9: Myofibril, energy metabolism\n",
    "Ryr1, Dmd, Myh8, Cacnb1, Ank1, Scn4b\n",
    "\n",
    "10: Macrophage and DC antigen takeup\n",
    "Ncf1, Ncf2, Cybb, Cyba, App, Itgam, Itgb1, Nrp1, Ccr5, Ccl5\n",
    "\n",
    "11: Tumor proliferation, apoptosis, ECM breakdown\n",
    "Casp3, Hmgb2, Kpnb1, Ptk2, Ddr1, Mmp9, Cdk1, Cdk4, Ccnb1"
   ]
  },
  {
   "cell_type": "markdown",
   "metadata": {},
   "source": [
    "### L-R pairs"
   ]
  },
  {
   "cell_type": "code",
   "execution_count": null,
   "metadata": {
    "vscode": {
     "languageId": "html"
    }
   },
   "outputs": [],
   "source": [
    "<class a><class a/>"
   ]
  }
 ],
 "metadata": {
  "kernelspec": {
   "display_name": "scanpy",
   "language": "python",
   "name": "python3"
  },
  "language_info": {
   "codemirror_mode": {
    "name": "ipython",
    "version": 3
   },
   "file_extension": ".py",
   "mimetype": "text/x-python",
   "name": "python",
   "nbconvert_exporter": "python",
   "pygments_lexer": "ipython3",
   "version": "3.12.3"
  }
 },
 "nbformat": 4,
 "nbformat_minor": 2
}
