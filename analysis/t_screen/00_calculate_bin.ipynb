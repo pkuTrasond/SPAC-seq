{
 "cells": [
  {
   "cell_type": "code",
   "execution_count": 1,
   "metadata": {},
   "outputs": [],
   "source": [
    "import pandas as pd\n",
    "import re\n",
    "import numpy as np"
   ]
  },
  {
   "cell_type": "code",
   "execution_count": 2,
   "metadata": {},
   "outputs": [],
   "source": [
    "offset_chip = [0, 0]"
   ]
  },
  {
   "cell_type": "code",
   "execution_count": 15,
   "metadata": {},
   "outputs": [],
   "source": [
    "filename = './gRNA/B926/D03658A5.gem'"
   ]
  },
  {
   "cell_type": "code",
   "execution_count": 16,
   "metadata": {},
   "outputs": [
    {
     "data": {
      "text/plain": [
       "[13, 44]"
      ]
     },
     "execution_count": 16,
     "metadata": {},
     "output_type": "execute_result"
    }
   ],
   "source": [
    "pattern_x = r\"OffsetX=(\\d+)\"\n",
    "pattern_y = r\"OffsetY=(\\d+)\"\n",
    "\n",
    "with open(filename, 'r') as file:\n",
    "    lines = file.readlines()\n",
    "    for line in lines:\n",
    "        match_x = re.search(pattern_x, line)\n",
    "        match_y = re.search(pattern_y, line)\n",
    "        if match_x:\n",
    "            offset_x = int(match_x.group(1))  # 获取匹配到的数值部分\n",
    "        if match_y:\n",
    "            offset_y = int(match_y.group(1))\n",
    "            break\n",
    "\n",
    "offset_guide = [offset_x, offset_y]\n",
    "offset_guide"
   ]
  },
  {
   "cell_type": "code",
   "execution_count": 56,
   "metadata": {},
   "outputs": [],
   "source": [
    "#offset_guide = [0, 0]"
   ]
  },
  {
   "cell_type": "code",
   "execution_count": 17,
   "metadata": {},
   "outputs": [],
   "source": [
    "chip_df = pd.read_csv(filename, sep='\\t',comment = '#')#, header=None)\n",
    "chip_df.columns = ['geneID', 'x', 'y', 'MIDCount', 'ExonCount']"
   ]
  },
  {
   "cell_type": "code",
   "execution_count": 18,
   "metadata": {},
   "outputs": [],
   "source": [
    "chip_df.loc[:,'x'] = chip_df.loc[:, 'x'] + offset_guide[0] - offset_chip[0]\n",
    "chip_df.loc[:,'y'] = chip_df.loc[:, 'y'] + offset_guide[1] - offset_chip[1]"
   ]
  },
  {
   "cell_type": "code",
   "execution_count": 59,
   "metadata": {},
   "outputs": [],
   "source": [
    "size = np.argmax([chip_df.loc[:,'y'], chip_df.loc[:,'x']])"
   ]
  },
  {
   "cell_type": "code",
   "execution_count": 60,
   "metadata": {},
   "outputs": [
    {
     "data": {
      "text/plain": [
       "444"
      ]
     },
     "execution_count": 60,
     "metadata": {},
     "output_type": "execute_result"
    }
   ],
   "source": [
    "bin_size = 100\n",
    "cnt_bin = int(size / bin_size) + 1\n",
    "cnt_bin"
   ]
  },
  {
   "cell_type": "code",
   "execution_count": 61,
   "metadata": {},
   "outputs": [],
   "source": [
    "chip_df.loc[:, 'x'] = (chip_df.loc[:, 'x'] / bin_size).astype(int) * bin_size\n",
    "chip_df.loc[:, 'y'] = (chip_df.loc[:, 'y'] / bin_size).astype(int) * bin_size"
   ]
  },
  {
   "cell_type": "code",
   "execution_count": 19,
   "metadata": {},
   "outputs": [
    {
     "data": {
      "text/html": [
       "<div>\n",
       "<style scoped>\n",
       "    .dataframe tbody tr th:only-of-type {\n",
       "        vertical-align: middle;\n",
       "    }\n",
       "\n",
       "    .dataframe tbody tr th {\n",
       "        vertical-align: top;\n",
       "    }\n",
       "\n",
       "    .dataframe thead th {\n",
       "        text-align: right;\n",
       "    }\n",
       "</style>\n",
       "<table border=\"1\" class=\"dataframe\">\n",
       "  <thead>\n",
       "    <tr style=\"text-align: right;\">\n",
       "      <th></th>\n",
       "      <th>geneID</th>\n",
       "      <th>x</th>\n",
       "      <th>y</th>\n",
       "      <th>MIDCount</th>\n",
       "      <th>ExonCount</th>\n",
       "    </tr>\n",
       "  </thead>\n",
       "  <tbody>\n",
       "    <tr>\n",
       "      <th>0</th>\n",
       "      <td>sgAdrb2_1_gene</td>\n",
       "      <td>845</td>\n",
       "      <td>11357</td>\n",
       "      <td>1</td>\n",
       "      <td>1</td>\n",
       "    </tr>\n",
       "    <tr>\n",
       "      <th>1</th>\n",
       "      <td>sgAdrb2_1_gene</td>\n",
       "      <td>875</td>\n",
       "      <td>7435</td>\n",
       "      <td>1</td>\n",
       "      <td>1</td>\n",
       "    </tr>\n",
       "    <tr>\n",
       "      <th>2</th>\n",
       "      <td>sgAdrb2_1_gene</td>\n",
       "      <td>883</td>\n",
       "      <td>8869</td>\n",
       "      <td>2</td>\n",
       "      <td>2</td>\n",
       "    </tr>\n",
       "    <tr>\n",
       "      <th>3</th>\n",
       "      <td>sgAdrb2_1_gene</td>\n",
       "      <td>918</td>\n",
       "      <td>11349</td>\n",
       "      <td>2</td>\n",
       "      <td>2</td>\n",
       "    </tr>\n",
       "    <tr>\n",
       "      <th>4</th>\n",
       "      <td>sgAdrb2_1_gene</td>\n",
       "      <td>931</td>\n",
       "      <td>8916</td>\n",
       "      <td>4</td>\n",
       "      <td>4</td>\n",
       "    </tr>\n",
       "    <tr>\n",
       "      <th>...</th>\n",
       "      <td>...</td>\n",
       "      <td>...</td>\n",
       "      <td>...</td>\n",
       "      <td>...</td>\n",
       "      <td>...</td>\n",
       "    </tr>\n",
       "    <tr>\n",
       "      <th>390516</th>\n",
       "      <td>sgnon-targeting_2_gene</td>\n",
       "      <td>21140</td>\n",
       "      <td>1387</td>\n",
       "      <td>2</td>\n",
       "      <td>2</td>\n",
       "    </tr>\n",
       "    <tr>\n",
       "      <th>390517</th>\n",
       "      <td>sgnon-targeting_2_gene</td>\n",
       "      <td>21267</td>\n",
       "      <td>6203</td>\n",
       "      <td>2</td>\n",
       "      <td>2</td>\n",
       "    </tr>\n",
       "    <tr>\n",
       "      <th>390518</th>\n",
       "      <td>sgnon-targeting_2_gene</td>\n",
       "      <td>22813</td>\n",
       "      <td>2005</td>\n",
       "      <td>1</td>\n",
       "      <td>1</td>\n",
       "    </tr>\n",
       "    <tr>\n",
       "      <th>390519</th>\n",
       "      <td>sgnon-targeting_2_gene</td>\n",
       "      <td>22957</td>\n",
       "      <td>10569</td>\n",
       "      <td>1</td>\n",
       "      <td>1</td>\n",
       "    </tr>\n",
       "    <tr>\n",
       "      <th>390520</th>\n",
       "      <td>sgnon-targeting_2_gene</td>\n",
       "      <td>23176</td>\n",
       "      <td>4210</td>\n",
       "      <td>1</td>\n",
       "      <td>1</td>\n",
       "    </tr>\n",
       "  </tbody>\n",
       "</table>\n",
       "<p>390521 rows × 5 columns</p>\n",
       "</div>"
      ],
      "text/plain": [
       "                        geneID      x      y  MIDCount  ExonCount\n",
       "0               sgAdrb2_1_gene    845  11357         1          1\n",
       "1               sgAdrb2_1_gene    875   7435         1          1\n",
       "2               sgAdrb2_1_gene    883   8869         2          2\n",
       "3               sgAdrb2_1_gene    918  11349         2          2\n",
       "4               sgAdrb2_1_gene    931   8916         4          4\n",
       "...                        ...    ...    ...       ...        ...\n",
       "390516  sgnon-targeting_2_gene  21140   1387         2          2\n",
       "390517  sgnon-targeting_2_gene  21267   6203         2          2\n",
       "390518  sgnon-targeting_2_gene  22813   2005         1          1\n",
       "390519  sgnon-targeting_2_gene  22957  10569         1          1\n",
       "390520  sgnon-targeting_2_gene  23176   4210         1          1\n",
       "\n",
       "[390521 rows x 5 columns]"
      ]
     },
     "execution_count": 19,
     "metadata": {},
     "output_type": "execute_result"
    }
   ],
   "source": [
    "merged_df = chip_df.groupby(['geneID', 'x', 'y']).agg({'MIDCount': 'sum', 'ExonCount': 'sum'}).reset_index()\n",
    "merged_df"
   ]
  },
  {
   "cell_type": "code",
   "execution_count": 20,
   "metadata": {},
   "outputs": [],
   "source": [
    "merged_df.to_csv(filename + \".offset\", sep='\\t')"
   ]
  },
  {
   "cell_type": "code",
   "execution_count": 63,
   "metadata": {},
   "outputs": [],
   "source": [
    "merged_df.to_csv(filename + f\".bin_{bin_size}\", sep='\\t')"
   ]
  }
 ],
 "metadata": {
  "kernelspec": {
   "display_name": "scanpy",
   "language": "python",
   "name": "python3"
  },
  "language_info": {
   "codemirror_mode": {
    "name": "ipython",
    "version": 3
   },
   "file_extension": ".py",
   "mimetype": "text/x-python",
   "name": "python",
   "nbconvert_exporter": "python",
   "pygments_lexer": "ipython3",
   "version": "3.12.3"
  }
 },
 "nbformat": 4,
 "nbformat_minor": 2
}
