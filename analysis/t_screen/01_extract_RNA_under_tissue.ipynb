{
 "cells": [
  {
   "cell_type": "code",
   "execution_count": 1,
   "id": "c0f9304a-479c-4c52-9ab8-1718bd55e331",
   "metadata": {
    "execution": {
     "iopub.execute_input": "2023-12-13T07:22:35.355918Z",
     "iopub.status.busy": "2023-12-13T07:22:35.355277Z",
     "iopub.status.idle": "2023-12-13T07:22:37.131844Z",
     "shell.execute_reply": "2023-12-13T07:22:37.130362Z",
     "shell.execute_reply.started": "2023-12-13T07:22:35.355866Z"
    }
   },
   "outputs": [],
   "source": [
    "from skimage import io\n",
    "from skimage.color import rgb2gray\n",
    "\n",
    "import matplotlib.pyplot as plt\n",
    "import numpy as np\n",
    "import pandas as pd"
   ]
  },
  {
   "cell_type": "code",
   "execution_count": 2,
   "id": "d45b4dbe-a23a-4a09-8f1a-a85bbf090b67",
   "metadata": {
    "execution": {
     "iopub.execute_input": "2023-12-13T07:22:37.134504Z",
     "iopub.status.busy": "2023-12-13T07:22:37.133845Z",
     "iopub.status.idle": "2023-12-13T07:22:37.548046Z",
     "shell.execute_reply": "2023-12-13T07:22:37.547287Z",
     "shell.execute_reply.started": "2023-12-13T07:22:37.134470Z"
    }
   },
   "outputs": [],
   "source": [
    "raw_mask = io.imread('./RNA/RNA.tissue_cut.tif')"
   ]
  },
  {
   "cell_type": "code",
   "execution_count": 3,
   "id": "8f486531-c435-4321-8ad1-37b57c2b7199",
   "metadata": {
    "execution": {
     "iopub.execute_input": "2023-12-13T07:22:37.549219Z",
     "iopub.status.busy": "2023-12-13T07:22:37.549029Z",
     "iopub.status.idle": "2023-12-13T07:22:37.552962Z",
     "shell.execute_reply": "2023-12-13T07:22:37.552376Z",
     "shell.execute_reply.started": "2023-12-13T07:22:37.549204Z"
    }
   },
   "outputs": [],
   "source": [
    "tissue_mask = np.transpose(raw_mask)"
   ]
  },
  {
   "cell_type": "code",
   "execution_count": 4,
   "id": "38f42ff4-2566-4e05-8c1f-52513059beee",
   "metadata": {
    "execution": {
     "iopub.execute_input": "2023-12-13T07:22:38.981379Z",
     "iopub.status.busy": "2023-12-13T07:22:38.980953Z",
     "iopub.status.idle": "2023-12-13T07:24:06.671154Z",
     "shell.execute_reply": "2023-12-13T07:24:06.669848Z",
     "shell.execute_reply.started": "2023-12-13T07:22:38.981356Z"
    }
   },
   "outputs": [
    {
     "data": {
      "text/plain": [
       "<matplotlib.image.AxesImage at 0x7f6eff002e80>"
      ]
     },
     "execution_count": 4,
     "metadata": {},
     "output_type": "execute_result"
    },
    {
     "data": {
      "image/png": "[encoded data removed]",
      "text/plain": [
       "<Figure size 640x480 with 1 Axes>"
      ]
     },
     "metadata": {},
     "output_type": "display_data"
    }
   ],
   "source": [
    "plt.imshow(tissue_mask, cmap='gray')"
   ]
  },
  {
   "cell_type": "code",
   "execution_count": 15,
   "id": "35b2f3f4-517a-48fc-8ca2-260dfddb7534",
   "metadata": {
    "execution": {
     "iopub.execute_input": "2023-12-13T07:31:18.765464Z",
     "iopub.status.busy": "2023-12-13T07:31:18.764754Z",
     "iopub.status.idle": "2023-12-13T07:31:18.775917Z",
     "shell.execute_reply": "2023-12-13T07:31:18.774680Z",
     "shell.execute_reply.started": "2023-12-13T07:31:18.765401Z"
    },
    "tags": []
   },
   "outputs": [
    {
     "data": {
      "text/plain": [
       "(26459, 26459)"
      ]
     },
     "execution_count": 15,
     "metadata": {},
     "output_type": "execute_result"
    }
   ],
   "source": [
    "tissue_mask.shape"
   ]
  },
  {
   "cell_type": "code",
   "execution_count": 16,
   "id": "331b1a7f-c07d-496b-8cf3-4f267b4dae35",
   "metadata": {
    "execution": {
     "iopub.execute_input": "2023-12-13T07:31:18.955069Z",
     "iopub.status.busy": "2023-12-13T07:31:18.954453Z",
     "iopub.status.idle": "2023-12-13T07:31:19.683151Z",
     "shell.execute_reply": "2023-12-13T07:31:19.682482Z",
     "shell.execute_reply.started": "2023-12-13T07:31:18.955029Z"
    },
    "tags": []
   },
   "outputs": [
    {
     "data": {
      "text/plain": [
       "306419494"
      ]
     },
     "execution_count": 16,
     "metadata": {},
     "output_type": "execute_result"
    }
   ],
   "source": [
    "np.sum(tissue_mask == 1)"
   ]
  },
  {
   "cell_type": "code",
   "execution_count": 17,
   "id": "99dfab91-7117-441d-9aa6-62da9607464d",
   "metadata": {
    "execution": {
     "iopub.execute_input": "2023-12-13T07:31:19.684442Z",
     "iopub.status.busy": "2023-12-13T07:31:19.684268Z",
     "iopub.status.idle": "2023-12-13T07:31:20.326046Z",
     "shell.execute_reply": "2023-12-13T07:31:20.325021Z",
     "shell.execute_reply.started": "2023-12-13T07:31:19.684429Z"
    },
    "tags": []
   },
   "outputs": [
    {
     "data": {
      "text/plain": [
       "393659187"
      ]
     },
     "execution_count": 17,
     "metadata": {},
     "output_type": "execute_result"
    }
   ],
   "source": [
    "np.sum(tissue_mask == 0)"
   ]
  },
  {
   "cell_type": "code",
   "execution_count": 18,
   "id": "5570b133-b5d5-4888-a57f-8fb61865bcaf",
   "metadata": {
    "execution": {
     "iopub.execute_input": "2023-12-13T07:31:20.327252Z",
     "iopub.status.busy": "2023-12-13T07:31:20.327054Z",
     "iopub.status.idle": "2023-12-13T07:31:21.640911Z",
     "shell.execute_reply": "2023-12-13T07:31:21.640256Z",
     "shell.execute_reply.started": "2023-12-13T07:31:20.327233Z"
    },
    "tags": []
   },
   "outputs": [
    {
     "data": {
      "text/plain": [
       "0"
      ]
     },
     "execution_count": 18,
     "metadata": {},
     "output_type": "execute_result"
    }
   ],
   "source": [
    "# check whether mask is just a binay matrix\n",
    "tissue_mask.shape[0] * tissue_mask.shape[1] -(np.sum(tissue_mask == 1) + np.sum(tissue_mask == 0))"
   ]
  },
  {
   "cell_type": "code",
   "execution_count": null,
   "id": "e40a5a46-1109-4ca2-a16a-68ad33830256",
   "metadata": {},
   "outputs": [],
   "source": []
  },
  {
   "cell_type": "code",
   "execution_count": 20,
   "id": "d916d7dd-b08f-48e7-b2e6-827bafeff011",
   "metadata": {
    "execution": {
     "iopub.execute_input": "2023-12-13T07:37:07.776450Z",
     "iopub.status.busy": "2023-12-13T07:37:07.775416Z",
     "iopub.status.idle": "2023-12-13T07:37:37.411050Z",
     "shell.execute_reply": "2023-12-13T07:37:37.409692Z",
     "shell.execute_reply.started": "2023-12-13T07:37:07.776403Z"
    },
    "tags": []
   },
   "outputs": [],
   "source": [
    "# setup stereo-seq\n",
    "chip_df = pd.read_csv('./RNA/RNA.raw.combine.gem', sep='\\t',comment = '#')"
   ]
  },
  {
   "cell_type": "code",
   "execution_count": 22,
   "id": "1ade9952-0f86-494a-a6a6-cb9917899913",
   "metadata": {
    "execution": {
     "iopub.execute_input": "2023-12-13T07:45:08.054205Z",
     "iopub.status.busy": "2023-12-13T07:45:08.053534Z",
     "iopub.status.idle": "2023-12-13T07:45:08.084336Z",
     "shell.execute_reply": "2023-12-13T07:45:08.083099Z",
     "shell.execute_reply.started": "2023-12-13T07:45:08.054162Z"
    },
    "tags": []
   },
   "outputs": [
    {
     "data": {
      "text/html": [
       "<div>\n",
       "<style scoped>\n",
       "    .dataframe tbody tr th:only-of-type {\n",
       "        vertical-align: middle;\n",
       "    }\n",
       "\n",
       "    .dataframe tbody tr th {\n",
       "        vertical-align: top;\n",
       "    }\n",
       "\n",
       "    .dataframe thead th {\n",
       "        text-align: right;\n",
       "    }\n",
       "</style>\n",
       "<table border=\"1\" class=\"dataframe\">\n",
       "  <thead>\n",
       "    <tr style=\"text-align: right;\">\n",
       "      <th></th>\n",
       "      <th>geneID</th>\n",
       "      <th>x</th>\n",
       "      <th>y</th>\n",
       "      <th>MIDCount</th>\n",
       "      <th>ExonCount</th>\n",
       "    </tr>\n",
       "  </thead>\n",
       "  <tbody>\n",
       "    <tr>\n",
       "      <th>0</th>\n",
       "      <td>Gm1992</td>\n",
       "      <td>15244</td>\n",
       "      <td>8385</td>\n",
       "      <td>1</td>\n",
       "      <td>0</td>\n",
       "    </tr>\n",
       "    <tr>\n",
       "      <th>1</th>\n",
       "      <td>Gm1992</td>\n",
       "      <td>13665</td>\n",
       "      <td>24443</td>\n",
       "      <td>1</td>\n",
       "      <td>0</td>\n",
       "    </tr>\n",
       "    <tr>\n",
       "      <th>2</th>\n",
       "      <td>Gm1992</td>\n",
       "      <td>20889</td>\n",
       "      <td>18202</td>\n",
       "      <td>1</td>\n",
       "      <td>0</td>\n",
       "    </tr>\n",
       "    <tr>\n",
       "      <th>3</th>\n",
       "      <td>Gm37381</td>\n",
       "      <td>18336</td>\n",
       "      <td>12669</td>\n",
       "      <td>1</td>\n",
       "      <td>0</td>\n",
       "    </tr>\n",
       "    <tr>\n",
       "      <th>4</th>\n",
       "      <td>Gm37381</td>\n",
       "      <td>21477</td>\n",
       "      <td>16541</td>\n",
       "      <td>1</td>\n",
       "      <td>0</td>\n",
       "    </tr>\n",
       "  </tbody>\n",
       "</table>\n",
       "</div>"
      ],
      "text/plain": [
       "    geneID      x      y  MIDCount  ExonCount\n",
       "0   Gm1992  15244   8385         1          0\n",
       "1   Gm1992  13665  24443         1          0\n",
       "2   Gm1992  20889  18202         1          0\n",
       "3  Gm37381  18336  12669         1          0\n",
       "4  Gm37381  21477  16541         1          0"
      ]
     },
     "execution_count": 22,
     "metadata": {},
     "output_type": "execute_result"
    }
   ],
   "source": [
    "chip_df.head()"
   ]
  },
  {
   "cell_type": "code",
   "execution_count": 23,
   "id": "d05c8a52-3d34-4229-b974-1653a2545b92",
   "metadata": {
    "execution": {
     "iopub.execute_input": "2023-12-13T07:46:05.434492Z",
     "iopub.status.busy": "2023-12-13T07:46:05.433742Z",
     "iopub.status.idle": "2023-12-13T07:46:05.443284Z",
     "shell.execute_reply": "2023-12-13T07:46:05.441957Z",
     "shell.execute_reply.started": "2023-12-13T07:46:05.434446Z"
    }
   },
   "outputs": [
    {
     "data": {
      "text/plain": [
       "(121640676, 5)"
      ]
     },
     "execution_count": 23,
     "metadata": {},
     "output_type": "execute_result"
    }
   ],
   "source": [
    "chip_df.shape"
   ]
  },
  {
   "cell_type": "code",
   "execution_count": 24,
   "id": "824603cc-5b5d-4497-b654-e9968f051062",
   "metadata": {
    "execution": {
     "iopub.execute_input": "2023-12-13T07:47:17.914352Z",
     "iopub.status.busy": "2023-12-13T07:47:17.913622Z",
     "iopub.status.idle": "2023-12-13T07:47:28.006349Z",
     "shell.execute_reply": "2023-12-13T07:47:28.005574Z",
     "shell.execute_reply.started": "2023-12-13T07:47:17.914306Z"
    }
   },
   "outputs": [],
   "source": [
    "# find non zero value in tissue_mask\n",
    "rows, cols = np.where(tissue_mask == 1)"
   ]
  },
  {
   "cell_type": "code",
   "execution_count": 25,
   "id": "9ab4fcb4-f4dd-4f60-aa7c-169f9359f15b",
   "metadata": {
    "execution": {
     "iopub.execute_input": "2023-12-13T07:47:28.007623Z",
     "iopub.status.busy": "2023-12-13T07:47:28.007446Z",
     "iopub.status.idle": "2023-12-13T07:47:43.259864Z",
     "shell.execute_reply": "2023-12-13T07:47:43.259137Z",
     "shell.execute_reply.started": "2023-12-13T07:47:28.007609Z"
    }
   },
   "outputs": [],
   "source": [
    "tissue_chip_df = chip_df.loc[(chip_df['x'].isin(rows)) & (chip_df['y'].isin(cols))]"
   ]
  },
  {
   "cell_type": "code",
   "execution_count": 26,
   "id": "8b587180-9075-4b62-b508-e99f6bb190b0",
   "metadata": {
    "execution": {
     "iopub.execute_input": "2023-12-13T07:47:53.667670Z",
     "iopub.status.busy": "2023-12-13T07:47:53.666950Z",
     "iopub.status.idle": "2023-12-13T07:47:53.676285Z",
     "shell.execute_reply": "2023-12-13T07:47:53.675012Z",
     "shell.execute_reply.started": "2023-12-13T07:47:53.667625Z"
    }
   },
   "outputs": [
    {
     "data": {
      "text/plain": [
       "(121350272, 5)"
      ]
     },
     "execution_count": 26,
     "metadata": {},
     "output_type": "execute_result"
    }
   ],
   "source": [
    "tissue_chip_df.shape"
   ]
  },
  {
   "cell_type": "code",
   "execution_count": 27,
   "id": "8647b41d-ccdf-42b2-9a22-66f1be799f15",
   "metadata": {
    "execution": {
     "iopub.execute_input": "2023-12-13T07:49:45.644420Z",
     "iopub.status.busy": "2023-12-13T07:49:45.643667Z",
     "iopub.status.idle": "2023-12-13T07:53:12.681083Z",
     "shell.execute_reply": "2023-12-13T07:53:12.678434Z",
     "shell.execute_reply.started": "2023-12-13T07:49:45.644375Z"
    },
    "tags": []
   },
   "outputs": [],
   "source": [
    "tissue_chip_df.to_csv('./RNA/RNA.tissue.combine.gem', sep='\\t')"
   ]
  }
 ],
 "metadata": {
  "kernelspec": {
   "display_name": "Python [conda env:stereopy]",
   "language": "python",
   "name": "conda-env-stereopy-py"
  },
  "language_info": {
   "codemirror_mode": {
    "name": "ipython",
    "version": 3
   },
   "file_extension": ".py",
   "mimetype": "text/x-python",
   "name": "python",
   "nbconvert_exporter": "python",
   "pygments_lexer": "ipython3",
   "version": "3.8.18"
  }
 },
 "nbformat": 4,
 "nbformat_minor": 5
}
